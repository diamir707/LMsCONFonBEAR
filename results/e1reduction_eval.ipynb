{
 "cells": [
  {
   "metadata": {
    "ExecuteTime": {
     "end_time": "2025-08-18T14:22:12.583591Z",
     "start_time": "2025-08-18T14:22:09.184531Z"
    }
   },
   "cell_type": "code",
   "source": [
    "import os\n",
    "import pandas as pd\n",
    "import numpy as np\n",
    "import matplotlib.pyplot as plt\n",
    "from matplotlib.ticker import FormatStrFormatter\n",
    "from src.utils import evaluate_reductions\n",
    "from src.estimates import get_confidence_estimates\n",
    "from src.metrics import adaptive_calibration_error"
   ],
   "id": "1c4c55c918785f49",
   "outputs": [],
   "execution_count": 1
  },
  {
   "metadata": {
    "ExecuteTime": {
     "end_time": "2025-08-18T14:22:12.586369Z",
     "start_time": "2025-08-18T14:22:12.584494Z"
    }
   },
   "cell_type": "code",
   "source": [
    "graphics_format = \".png\"\n",
    "graphics_path = \"/Users/christopher/Documents/University/Master/BEAR Confidence Estimation In LMs/Thesis/Graphics/\"\n",
    "tables_path = \"/Users/christopher/Documents/University/Master/BEAR Confidence Estimation In LMs/Thesis/Tables/\"\n",
    "list_of_all_models = [x for x in os.listdir(\"../results/scores\") if not x.startswith(\".\")]"
   ],
   "id": "910cc1d96b8753ef",
   "outputs": [],
   "execution_count": 2
  },
  {
   "metadata": {},
   "cell_type": "markdown",
   "source": "# Experiment 1: Token Log-Likelihood Reduction Strategy Evaluation",
   "id": "630ebdf6c5c9d098"
  },
  {
   "metadata": {
    "ExecuteTime": {
     "end_time": "2025-08-18T14:22:12.592550Z",
     "start_time": "2025-08-18T14:22:12.586989Z"
    }
   },
   "cell_type": "code",
   "source": [
    "# Evaluate over all models\n",
    "if os.path.isfile(\"../results/reduction_strategies.json\"):\n",
    "    reduction_results = pd.read_json(\n",
    "        \"../results/reduction_strategies.json\",\n",
    "        orient=\"records\",\n",
    "        lines=True)\n",
    "else:\n",
    "    reduction_results = evaluate_reductions(models=list_of_all_models)\n",
    "    reduction_results.to_json(\"../results/reduction_strategies.json\", orient=\"records\", lines=True)"
   ],
   "id": "317d7d7fd66d4a3d",
   "outputs": [],
   "execution_count": 3
  },
  {
   "metadata": {
    "ExecuteTime": {
     "end_time": "2025-08-18T14:22:12.595923Z",
     "start_time": "2025-08-18T14:22:12.593701Z"
    }
   },
   "cell_type": "code",
   "source": [
    "# Adding the harmonic mean to the results: 2*ACC*(1-ACE)/(ACC+(1-ACE))\n",
    "acc = reduction_results[\"accuracy\"]\n",
    "ace = reduction_results[\"ace\"]\n",
    "reduction_results[\"harmonic_mean\"] = (2*acc*(1-ace))/(acc+(1-ace))"
   ],
   "id": "60e44082a1af67c0",
   "outputs": [],
   "execution_count": 4
  },
  {
   "metadata": {
    "ExecuteTime": {
     "end_time": "2025-08-18T14:22:12.603940Z",
     "start_time": "2025-08-18T14:22:12.596429Z"
    }
   },
   "cell_type": "code",
   "source": [
    "reduction_labels = {\n",
    "    \"pll_scores_sum\": \"Sum\",\n",
    "    \"pll_scores_avg\": \"Mean\",\n",
    "    \"pll_scores_answer_sum\": \"Sum (A)\",\n",
    "    \"pll_scores_answer_avg\": \"Mean (A)\",\n",
    "}\n",
    "reduction_results[\"reduction\"] = reduction_results[\"reduction\"].map(reduction_labels)\n",
    "reduction_results.round(3)"
   ],
   "id": "62d74efa22d98356",
   "outputs": [
    {
     "data": {
      "text/plain": [
       "               model model_type reduction  accuracy    ace  harmonic_mean\n",
       "0           opt-350m        CLM       Sum     0.204  0.265          0.320\n",
       "1           opt-350m        CLM      Mean     0.087  0.052          0.160\n",
       "2           opt-350m        CLM   Sum (A)     0.208  0.256          0.326\n",
       "3           opt-350m        CLM  Mean (A)     0.136  0.165          0.234\n",
       "4           opt-125m        CLM       Sum     0.175  0.299          0.280\n",
       "..               ...        ...       ...       ...    ...            ...\n",
       "59          gemma-7b        CLM  Mean (A)     0.537  0.064          0.682\n",
       "60  bert-large-cased        MLM       Sum     0.208  0.452          0.302\n",
       "61  bert-large-cased        MLM      Mean     0.166  0.040          0.284\n",
       "62  bert-large-cased        MLM   Sum (A)     0.143  0.340          0.235\n",
       "63  bert-large-cased        MLM  Mean (A)     0.135  0.187          0.231\n",
       "\n",
       "[64 rows x 6 columns]"
      ],
      "text/html": [
       "<div>\n",
       "<style scoped>\n",
       "    .dataframe tbody tr th:only-of-type {\n",
       "        vertical-align: middle;\n",
       "    }\n",
       "\n",
       "    .dataframe tbody tr th {\n",
       "        vertical-align: top;\n",
       "    }\n",
       "\n",
       "    .dataframe thead th {\n",
       "        text-align: right;\n",
       "    }\n",
       "</style>\n",
       "<table border=\"1\" class=\"dataframe\">\n",
       "  <thead>\n",
       "    <tr style=\"text-align: right;\">\n",
       "      <th></th>\n",
       "      <th>model</th>\n",
       "      <th>model_type</th>\n",
       "      <th>reduction</th>\n",
       "      <th>accuracy</th>\n",
       "      <th>ace</th>\n",
       "      <th>harmonic_mean</th>\n",
       "    </tr>\n",
       "  </thead>\n",
       "  <tbody>\n",
       "    <tr>\n",
       "      <th>0</th>\n",
       "      <td>opt-350m</td>\n",
       "      <td>CLM</td>\n",
       "      <td>Sum</td>\n",
       "      <td>0.204</td>\n",
       "      <td>0.265</td>\n",
       "      <td>0.320</td>\n",
       "    </tr>\n",
       "    <tr>\n",
       "      <th>1</th>\n",
       "      <td>opt-350m</td>\n",
       "      <td>CLM</td>\n",
       "      <td>Mean</td>\n",
       "      <td>0.087</td>\n",
       "      <td>0.052</td>\n",
       "      <td>0.160</td>\n",
       "    </tr>\n",
       "    <tr>\n",
       "      <th>2</th>\n",
       "      <td>opt-350m</td>\n",
       "      <td>CLM</td>\n",
       "      <td>Sum (A)</td>\n",
       "      <td>0.208</td>\n",
       "      <td>0.256</td>\n",
       "      <td>0.326</td>\n",
       "    </tr>\n",
       "    <tr>\n",
       "      <th>3</th>\n",
       "      <td>opt-350m</td>\n",
       "      <td>CLM</td>\n",
       "      <td>Mean (A)</td>\n",
       "      <td>0.136</td>\n",
       "      <td>0.165</td>\n",
       "      <td>0.234</td>\n",
       "    </tr>\n",
       "    <tr>\n",
       "      <th>4</th>\n",
       "      <td>opt-125m</td>\n",
       "      <td>CLM</td>\n",
       "      <td>Sum</td>\n",
       "      <td>0.175</td>\n",
       "      <td>0.299</td>\n",
       "      <td>0.280</td>\n",
       "    </tr>\n",
       "    <tr>\n",
       "      <th>...</th>\n",
       "      <td>...</td>\n",
       "      <td>...</td>\n",
       "      <td>...</td>\n",
       "      <td>...</td>\n",
       "      <td>...</td>\n",
       "      <td>...</td>\n",
       "    </tr>\n",
       "    <tr>\n",
       "      <th>59</th>\n",
       "      <td>gemma-7b</td>\n",
       "      <td>CLM</td>\n",
       "      <td>Mean (A)</td>\n",
       "      <td>0.537</td>\n",
       "      <td>0.064</td>\n",
       "      <td>0.682</td>\n",
       "    </tr>\n",
       "    <tr>\n",
       "      <th>60</th>\n",
       "      <td>bert-large-cased</td>\n",
       "      <td>MLM</td>\n",
       "      <td>Sum</td>\n",
       "      <td>0.208</td>\n",
       "      <td>0.452</td>\n",
       "      <td>0.302</td>\n",
       "    </tr>\n",
       "    <tr>\n",
       "      <th>61</th>\n",
       "      <td>bert-large-cased</td>\n",
       "      <td>MLM</td>\n",
       "      <td>Mean</td>\n",
       "      <td>0.166</td>\n",
       "      <td>0.040</td>\n",
       "      <td>0.284</td>\n",
       "    </tr>\n",
       "    <tr>\n",
       "      <th>62</th>\n",
       "      <td>bert-large-cased</td>\n",
       "      <td>MLM</td>\n",
       "      <td>Sum (A)</td>\n",
       "      <td>0.143</td>\n",
       "      <td>0.340</td>\n",
       "      <td>0.235</td>\n",
       "    </tr>\n",
       "    <tr>\n",
       "      <th>63</th>\n",
       "      <td>bert-large-cased</td>\n",
       "      <td>MLM</td>\n",
       "      <td>Mean (A)</td>\n",
       "      <td>0.135</td>\n",
       "      <td>0.187</td>\n",
       "      <td>0.231</td>\n",
       "    </tr>\n",
       "  </tbody>\n",
       "</table>\n",
       "<p>64 rows × 6 columns</p>\n",
       "</div>"
      ]
     },
     "execution_count": 5,
     "metadata": {},
     "output_type": "execute_result"
    }
   ],
   "execution_count": 5
  },
  {
   "metadata": {},
   "cell_type": "markdown",
   "source": "### Figure 5.1: Bar Plot Reduction Strategies (Accuracy, ACE, Harmonic-Mean)",
   "id": "ae5454d888786322"
  },
  {
   "metadata": {
    "ExecuteTime": {
     "end_time": "2025-08-18T14:22:13.691631Z",
     "start_time": "2025-08-18T14:22:12.604611Z"
    }
   },
   "cell_type": "code",
   "source": [
    "mean_per_metric = (\n",
    "    reduction_results.groupby([\"reduction\", \"model_type\"])[[\"accuracy\", \"ace\", \"harmonic_mean\"]]\n",
    "    .mean()\n",
    "    .reset_index()\n",
    ")\n",
    "\n",
    "metric_labels = {\"accuracy\": \"Accuracy\", \"ace\": \"ACE\", \"harmonic_mean\": \"Harmonic Mean\"}\n",
    "df = mean_per_metric.melt(\n",
    "    id_vars=[\"reduction\", \"model_type\"],\n",
    "    value_vars=metric_labels.keys(),\n",
    "    var_name=\"metric\",\n",
    "    value_name=\"value\"\n",
    ")\n",
    "df[\"metric\"] = df[\"metric\"].map(metric_labels)\n",
    "\n",
    "colors = {\"Accuracy\": \"#db2b39\", \"ACE\": \"#29335c\", \"Harmonic Mean\": \"#f3a712\"}\n",
    "reductions = [\"Sum\", \"Mean\", \"Sum (A)\", \"Mean (A)\"]\n",
    "metrics = list(colors.keys())\n",
    "model_types = df[\"model_type\"].unique()\n",
    "\n",
    "fig, axs = plt.subplots(1, 2, figsize=(14, 6), sharey=False)\n",
    "\n",
    "x = np.arange(len(reductions))\n",
    "bar_width = 0.2\n",
    "\n",
    "for ax, model_type in zip(axs, model_types):\n",
    "    data = df[df[\"model_type\"] == model_type]\n",
    "    for i, metric in enumerate(metrics):\n",
    "        values = (\n",
    "            data[data[\"metric\"] == metric]\n",
    "            .set_index(\"reduction\")\n",
    "            .reindex(reductions)[\"value\"]\n",
    "            .values\n",
    "        )\n",
    "        ax.bar(x + i * bar_width, values, width=bar_width, label=metric, color=colors[metric], alpha=0.8)\n",
    "        for xi, v in zip(x, values):\n",
    "            ax.text(xi + i * bar_width, v + 0.002, f\"{v:.3f}\", ha=\"center\", va=\"bottom\", fontsize=8)\n",
    "\n",
    "    ax.set_xticks(x + bar_width)\n",
    "    ax.set_xticklabels(reductions, fontsize=12)\n",
    "    ax.set_title(model_type, fontsize=16, fontweight=\"bold\")\n",
    "    ax.set_facecolor(\"white\")\n",
    "    ax.yaxis.set_major_formatter(FormatStrFormatter(\"%.2f\"))\n",
    "    for spine in ax.spines.values():\n",
    "        spine.set_visible(True)\n",
    "        spine.set_linewidth(1)\n",
    "        spine.set_color(\"black\")\n",
    "\n",
    "fig.legend(metrics, loc=\"lower center\", ncol=3, fontsize=12, frameon=False, bbox_to_anchor=(0.5, 0))\n",
    "fig.tight_layout(rect=[0, 0.05, 1, 1])\n",
    "plt.savefig(graphics_path + \"reductions_barplot\" + graphics_format, bbox_inches=\"tight\", dpi=600)\n",
    "plt.show()"
   ],
   "id": "5d988f901f88e089",
   "outputs": [
    {
     "data": {
      "text/plain": [
       "<Figure size 1400x600 with 2 Axes>"
      ],
      "image/png": "[encoded data removed]"
     },
     "metadata": {},
     "output_type": "display_data"
    }
   ],
   "execution_count": 6
  },
  {
   "metadata": {},
   "cell_type": "markdown",
   "source": "### Appendix B: Harmonic Means, Accuracy and ACE for each model and reduction strategy",
   "id": "2e5823a8debea3c3"
  },
  {
   "metadata": {
    "ExecuteTime": {
     "end_time": "2025-08-18T14:22:13.719446Z",
     "start_time": "2025-08-18T14:22:13.692303Z"
    }
   },
   "cell_type": "code",
   "source": [
    "# Harmonic Mean\n",
    "(\n",
    "    reduction_results\n",
    "    .pivot(columns=\"reduction\", index=\"model\", values=\"harmonic_mean\")\n",
    "    .reset_index()\n",
    "    .set_index(\"model\")\n",
    "    .round(3)[[\"Sum\", \"Mean\", \"Sum (A)\", \"Mean (A)\"]]\n",
    ").to_latex(tables_path + \"table_d2.txt\", float_format=\"%.3f\", header=True)"
   ],
   "id": "9e22e2cbfbf87b98",
   "outputs": [],
   "execution_count": 7
  },
  {
   "metadata": {
    "ExecuteTime": {
     "end_time": "2025-08-18T14:22:13.726390Z",
     "start_time": "2025-08-18T14:22:13.720054Z"
    }
   },
   "cell_type": "code",
   "source": [
    "# Accuracy \n",
    "(\n",
    "    reduction_results\n",
    "    .pivot(columns=\"reduction\", index=\"model\", values=\"accuracy\")\n",
    "    .reset_index()\n",
    "    .set_index(\"model\")\n",
    "    .round(3)[[\"Sum\", \"Mean\", \"Sum (A)\", \"Mean (A)\"]]\n",
    ")"
   ],
   "id": "bc388825065db88",
   "outputs": [
    {
     "data": {
      "text/plain": [
       "reduction            Sum   Mean  Sum (A)  Mean (A)\n",
       "model                                             \n",
       "bert-base-cased    0.192  0.153    0.124     0.108\n",
       "bert-large-cased   0.208  0.166    0.143     0.135\n",
       "gemma-2b           0.529  0.312    0.521     0.412\n",
       "gemma-7b           0.664  0.395    0.657     0.537\n",
       "gpt2               0.149  0.070    0.150     0.091\n",
       "gpt2-large         0.235  0.118    0.236     0.154\n",
       "gpt2-medium        0.207  0.095    0.211     0.131\n",
       "gpt2-xl            0.276  0.144    0.277     0.186\n",
       "opt-1.3b           0.322  0.152    0.320     0.236\n",
       "opt-125m           0.175  0.077    0.176     0.108\n",
       "opt-350m           0.204  0.087    0.208     0.136\n",
       "opt-6.7b           0.440  0.219    0.438     0.340\n",
       "roberta-base       0.172  0.137    0.107     0.097\n",
       "roberta-large      0.227  0.188    0.138     0.125\n",
       "xlm-roberta-base   0.116  0.101    0.075     0.070\n",
       "xlm-roberta-large  0.143  0.120    0.096     0.090"
      ],
      "text/html": [
       "<div>\n",
       "<style scoped>\n",
       "    .dataframe tbody tr th:only-of-type {\n",
       "        vertical-align: middle;\n",
       "    }\n",
       "\n",
       "    .dataframe tbody tr th {\n",
       "        vertical-align: top;\n",
       "    }\n",
       "\n",
       "    .dataframe thead th {\n",
       "        text-align: right;\n",
       "    }\n",
       "</style>\n",
       "<table border=\"1\" class=\"dataframe\">\n",
       "  <thead>\n",
       "    <tr style=\"text-align: right;\">\n",
       "      <th>reduction</th>\n",
       "      <th>Sum</th>\n",
       "      <th>Mean</th>\n",
       "      <th>Sum (A)</th>\n",
       "      <th>Mean (A)</th>\n",
       "    </tr>\n",
       "    <tr>\n",
       "      <th>model</th>\n",
       "      <th></th>\n",
       "      <th></th>\n",
       "      <th></th>\n",
       "      <th></th>\n",
       "    </tr>\n",
       "  </thead>\n",
       "  <tbody>\n",
       "    <tr>\n",
       "      <th>bert-base-cased</th>\n",
       "      <td>0.192</td>\n",
       "      <td>0.153</td>\n",
       "      <td>0.124</td>\n",
       "      <td>0.108</td>\n",
       "    </tr>\n",
       "    <tr>\n",
       "      <th>bert-large-cased</th>\n",
       "      <td>0.208</td>\n",
       "      <td>0.166</td>\n",
       "      <td>0.143</td>\n",
       "      <td>0.135</td>\n",
       "    </tr>\n",
       "    <tr>\n",
       "      <th>gemma-2b</th>\n",
       "      <td>0.529</td>\n",
       "      <td>0.312</td>\n",
       "      <td>0.521</td>\n",
       "      <td>0.412</td>\n",
       "    </tr>\n",
       "    <tr>\n",
       "      <th>gemma-7b</th>\n",
       "      <td>0.664</td>\n",
       "      <td>0.395</td>\n",
       "      <td>0.657</td>\n",
       "      <td>0.537</td>\n",
       "    </tr>\n",
       "    <tr>\n",
       "      <th>gpt2</th>\n",
       "      <td>0.149</td>\n",
       "      <td>0.070</td>\n",
       "      <td>0.150</td>\n",
       "      <td>0.091</td>\n",
       "    </tr>\n",
       "    <tr>\n",
       "      <th>gpt2-large</th>\n",
       "      <td>0.235</td>\n",
       "      <td>0.118</td>\n",
       "      <td>0.236</td>\n",
       "      <td>0.154</td>\n",
       "    </tr>\n",
       "    <tr>\n",
       "      <th>gpt2-medium</th>\n",
       "      <td>0.207</td>\n",
       "      <td>0.095</td>\n",
       "      <td>0.211</td>\n",
       "      <td>0.131</td>\n",
       "    </tr>\n",
       "    <tr>\n",
       "      <th>gpt2-xl</th>\n",
       "      <td>0.276</td>\n",
       "      <td>0.144</td>\n",
       "      <td>0.277</td>\n",
       "      <td>0.186</td>\n",
       "    </tr>\n",
       "    <tr>\n",
       "      <th>opt-1.3b</th>\n",
       "      <td>0.322</td>\n",
       "      <td>0.152</td>\n",
       "      <td>0.320</td>\n",
       "      <td>0.236</td>\n",
       "    </tr>\n",
       "    <tr>\n",
       "      <th>opt-125m</th>\n",
       "      <td>0.175</td>\n",
       "      <td>0.077</td>\n",
       "      <td>0.176</td>\n",
       "      <td>0.108</td>\n",
       "    </tr>\n",
       "    <tr>\n",
       "      <th>opt-350m</th>\n",
       "      <td>0.204</td>\n",
       "      <td>0.087</td>\n",
       "      <td>0.208</td>\n",
       "      <td>0.136</td>\n",
       "    </tr>\n",
       "    <tr>\n",
       "      <th>opt-6.7b</th>\n",
       "      <td>0.440</td>\n",
       "      <td>0.219</td>\n",
       "      <td>0.438</td>\n",
       "      <td>0.340</td>\n",
       "    </tr>\n",
       "    <tr>\n",
       "      <th>roberta-base</th>\n",
       "      <td>0.172</td>\n",
       "      <td>0.137</td>\n",
       "      <td>0.107</td>\n",
       "      <td>0.097</td>\n",
       "    </tr>\n",
       "    <tr>\n",
       "      <th>roberta-large</th>\n",
       "      <td>0.227</td>\n",
       "      <td>0.188</td>\n",
       "      <td>0.138</td>\n",
       "      <td>0.125</td>\n",
       "    </tr>\n",
       "    <tr>\n",
       "      <th>xlm-roberta-base</th>\n",
       "      <td>0.116</td>\n",
       "      <td>0.101</td>\n",
       "      <td>0.075</td>\n",
       "      <td>0.070</td>\n",
       "    </tr>\n",
       "    <tr>\n",
       "      <th>xlm-roberta-large</th>\n",
       "      <td>0.143</td>\n",
       "      <td>0.120</td>\n",
       "      <td>0.096</td>\n",
       "      <td>0.090</td>\n",
       "    </tr>\n",
       "  </tbody>\n",
       "</table>\n",
       "</div>"
      ]
     },
     "execution_count": 8,
     "metadata": {},
     "output_type": "execute_result"
    }
   ],
   "execution_count": 8
  },
  {
   "metadata": {
    "ExecuteTime": {
     "end_time": "2025-08-18T14:22:13.732897Z",
     "start_time": "2025-08-18T14:22:13.726993Z"
    }
   },
   "cell_type": "code",
   "source": [
    "# ACE\n",
    "(\n",
    "    reduction_results\n",
    "    .pivot(columns=\"reduction\", index=\"model\", values=\"ace\")\n",
    "    .reset_index()\n",
    "    .set_index(\"model\")\n",
    "    .round(3)[[\"Sum\", \"Mean\", \"Sum (A)\", \"Mean (A)\"]]\n",
    ")"
   ],
   "id": "db40091fa13255b2",
   "outputs": [
    {
     "data": {
      "text/plain": [
       "reduction            Sum   Mean  Sum (A)  Mean (A)\n",
       "model                                             \n",
       "bert-base-cased    0.454  0.036    0.371     0.202\n",
       "bert-large-cased   0.452  0.040    0.340     0.187\n",
       "gemma-2b           0.113  0.189    0.127     0.039\n",
       "gemma-7b           0.077  0.266    0.090     0.064\n",
       "gpt2               0.295  0.044    0.286     0.216\n",
       "gpt2-large         0.236  0.040    0.230     0.144\n",
       "gpt2-medium        0.249  0.044    0.242     0.165\n",
       "gpt2-xl            0.240  0.052    0.232     0.121\n",
       "opt-1.3b           0.207  0.064    0.202     0.069\n",
       "opt-125m           0.299  0.053    0.294     0.191\n",
       "opt-350m           0.265  0.052    0.256     0.165\n",
       "opt-6.7b           0.154  0.113    0.153     0.040\n",
       "roberta-base       0.482  0.046    0.400     0.185\n",
       "roberta-large      0.441  0.066    0.329     0.142\n",
       "xlm-roberta-base   0.585  0.059    0.511     0.262\n",
       "xlm-roberta-large  0.559  0.052    0.462     0.213"
      ],
      "text/html": [
       "<div>\n",
       "<style scoped>\n",
       "    .dataframe tbody tr th:only-of-type {\n",
       "        vertical-align: middle;\n",
       "    }\n",
       "\n",
       "    .dataframe tbody tr th {\n",
       "        vertical-align: top;\n",
       "    }\n",
       "\n",
       "    .dataframe thead th {\n",
       "        text-align: right;\n",
       "    }\n",
       "</style>\n",
       "<table border=\"1\" class=\"dataframe\">\n",
       "  <thead>\n",
       "    <tr style=\"text-align: right;\">\n",
       "      <th>reduction</th>\n",
       "      <th>Sum</th>\n",
       "      <th>Mean</th>\n",
       "      <th>Sum (A)</th>\n",
       "      <th>Mean (A)</th>\n",
       "    </tr>\n",
       "    <tr>\n",
       "      <th>model</th>\n",
       "      <th></th>\n",
       "      <th></th>\n",
       "      <th></th>\n",
       "      <th></th>\n",
       "    </tr>\n",
       "  </thead>\n",
       "  <tbody>\n",
       "    <tr>\n",
       "      <th>bert-base-cased</th>\n",
       "      <td>0.454</td>\n",
       "      <td>0.036</td>\n",
       "      <td>0.371</td>\n",
       "      <td>0.202</td>\n",
       "    </tr>\n",
       "    <tr>\n",
       "      <th>bert-large-cased</th>\n",
       "      <td>0.452</td>\n",
       "      <td>0.040</td>\n",
       "      <td>0.340</td>\n",
       "      <td>0.187</td>\n",
       "    </tr>\n",
       "    <tr>\n",
       "      <th>gemma-2b</th>\n",
       "      <td>0.113</td>\n",
       "      <td>0.189</td>\n",
       "      <td>0.127</td>\n",
       "      <td>0.039</td>\n",
       "    </tr>\n",
       "    <tr>\n",
       "      <th>gemma-7b</th>\n",
       "      <td>0.077</td>\n",
       "      <td>0.266</td>\n",
       "      <td>0.090</td>\n",
       "      <td>0.064</td>\n",
       "    </tr>\n",
       "    <tr>\n",
       "      <th>gpt2</th>\n",
       "      <td>0.295</td>\n",
       "      <td>0.044</td>\n",
       "      <td>0.286</td>\n",
       "      <td>0.216</td>\n",
       "    </tr>\n",
       "    <tr>\n",
       "      <th>gpt2-large</th>\n",
       "      <td>0.236</td>\n",
       "      <td>0.040</td>\n",
       "      <td>0.230</td>\n",
       "      <td>0.144</td>\n",
       "    </tr>\n",
       "    <tr>\n",
       "      <th>gpt2-medium</th>\n",
       "      <td>0.249</td>\n",
       "      <td>0.044</td>\n",
       "      <td>0.242</td>\n",
       "      <td>0.165</td>\n",
       "    </tr>\n",
       "    <tr>\n",
       "      <th>gpt2-xl</th>\n",
       "      <td>0.240</td>\n",
       "      <td>0.052</td>\n",
       "      <td>0.232</td>\n",
       "      <td>0.121</td>\n",
       "    </tr>\n",
       "    <tr>\n",
       "      <th>opt-1.3b</th>\n",
       "      <td>0.207</td>\n",
       "      <td>0.064</td>\n",
       "      <td>0.202</td>\n",
       "      <td>0.069</td>\n",
       "    </tr>\n",
       "    <tr>\n",
       "      <th>opt-125m</th>\n",
       "      <td>0.299</td>\n",
       "      <td>0.053</td>\n",
       "      <td>0.294</td>\n",
       "      <td>0.191</td>\n",
       "    </tr>\n",
       "    <tr>\n",
       "      <th>opt-350m</th>\n",
       "      <td>0.265</td>\n",
       "      <td>0.052</td>\n",
       "      <td>0.256</td>\n",
       "      <td>0.165</td>\n",
       "    </tr>\n",
       "    <tr>\n",
       "      <th>opt-6.7b</th>\n",
       "      <td>0.154</td>\n",
       "      <td>0.113</td>\n",
       "      <td>0.153</td>\n",
       "      <td>0.040</td>\n",
       "    </tr>\n",
       "    <tr>\n",
       "      <th>roberta-base</th>\n",
       "      <td>0.482</td>\n",
       "      <td>0.046</td>\n",
       "      <td>0.400</td>\n",
       "      <td>0.185</td>\n",
       "    </tr>\n",
       "    <tr>\n",
       "      <th>roberta-large</th>\n",
       "      <td>0.441</td>\n",
       "      <td>0.066</td>\n",
       "      <td>0.329</td>\n",
       "      <td>0.142</td>\n",
       "    </tr>\n",
       "    <tr>\n",
       "      <th>xlm-roberta-base</th>\n",
       "      <td>0.585</td>\n",
       "      <td>0.059</td>\n",
       "      <td>0.511</td>\n",
       "      <td>0.262</td>\n",
       "    </tr>\n",
       "    <tr>\n",
       "      <th>xlm-roberta-large</th>\n",
       "      <td>0.559</td>\n",
       "      <td>0.052</td>\n",
       "      <td>0.462</td>\n",
       "      <td>0.213</td>\n",
       "    </tr>\n",
       "  </tbody>\n",
       "</table>\n",
       "</div>"
      ]
     },
     "execution_count": 9,
     "metadata": {},
     "output_type": "execute_result"
    }
   ],
   "execution_count": 9
  },
  {
   "metadata": {},
   "cell_type": "markdown",
   "source": "### Figure 5.2: Distribution of opt-1.3b/bert-base-cased softmax confidence scores",
   "id": "b93f20eea03812e1"
  },
  {
   "metadata": {
    "ExecuteTime": {
     "end_time": "2025-08-18T14:24:42.548573Z",
     "start_time": "2025-08-18T14:22:13.734542Z"
    }
   },
   "cell_type": "code",
   "source": [
    "# Load model results for opt-1.3b and bert-base-cased\n",
    "models = [\"opt-1.3b\", \"bert-base-cased\"]\n",
    "reductions = [\"sum\", \"mean\"]\n",
    "data_rows = []\n",
    "\n",
    "for model in models:\n",
    "    for reduction in reductions:\n",
    "        for only_answers in [False, True]:\n",
    "            result = get_confidence_estimates(\n",
    "                model,\n",
    "                reduction=reduction,\n",
    "                only_answers=only_answers\n",
    "            )\n",
    "            row = {\n",
    "                \"model\": model,\n",
    "                \"reduction\": reduction,\n",
    "                \"only_answers\": only_answers,\n",
    "                \"predictions\": result[\"correctly_predicted\"],\n",
    "                \"confidence\": result[\"base_conf\"]\n",
    "            }\n",
    "            data_rows.append(row)\n",
    "\n",
    "results_df = pd.DataFrame(data_rows)"
   ],
   "id": "fdac74e54c3e0f6b",
   "outputs": [],
   "execution_count": 10
  },
  {
   "metadata": {
    "ExecuteTime": {
     "end_time": "2025-08-18T14:26:11.204980Z",
     "start_time": "2025-08-18T14:26:09.302047Z"
    }
   },
   "cell_type": "code",
   "source": [
    "opt_confidences = [\n",
    "    results_df.query(\"model == 'opt-1.3b' and reduction == 'sum' and only_answers == False\")[\"confidence\"].iloc[0],\n",
    "    results_df.query(\"model == 'opt-1.3b' and reduction == 'mean' and only_answers == False\")[\"confidence\"].iloc[0],\n",
    "    results_df.query(\"model == 'opt-1.3b' and reduction == 'sum' and only_answers == True\")[\"confidence\"].iloc[0],\n",
    "    results_df.query(\"model == 'opt-1.3b' and reduction == 'mean' and only_answers == True\")[\"confidence\"].iloc[0],\n",
    "]\n",
    "\n",
    "bert_confidences = [\n",
    "    results_df.query(\"model == 'bert-base-cased' and reduction == 'sum' and only_answers == False\")[\"confidence\"].iloc[0],\n",
    "    results_df.query(\"model == 'bert-base-cased' and reduction == 'mean' and only_answers == False\")[\"confidence\"].iloc[0],\n",
    "    results_df.query(\"model == 'bert-base-cased' and reduction == 'sum' and only_answers == True\")[\"confidence\"].iloc[0],\n",
    "    results_df.query(\"model == 'bert-base-cased' and reduction == 'mean' and only_answers == True\")[\"confidence\"].iloc[0],\n",
    "]\n",
    "\n",
    "\n",
    "titles = [\"Sum\", \"Mean\", \"Sum (A)\", \"Mean (A)\"]\n",
    "confidence_sets = [opt_confidences, bert_confidences]\n",
    "models = [\"opt-1.3b\", \"bert-base-cased\"]\n",
    "\n",
    "fig, axes = plt.subplots(2, 4, figsize=(18, 8), sharey=False)\n",
    "axes = axes.reshape(2, 4)\n",
    "\n",
    "for row_idx, model_confidences in enumerate(confidence_sets):\n",
    "    for col_idx, (data, reduction) in enumerate(zip(model_confidences, titles)):\n",
    "        ax = axes[row_idx, col_idx]\n",
    "        ax.hist(data, bins=20, color=\"gray\", edgecolor=\"black\", alpha=0.5)\n",
    "        ax.set_facecolor(\"white\")\n",
    "        ax.set_title(f\"{reduction}\", fontsize=16) if row_idx == 0 else ax.set_title(\"\")\n",
    "        ax.set_xlabel(\"\")\n",
    "        ax.set_ylabel(\"\")\n",
    "        ax.set_xlim(0, 1)\n",
    "        ax.set_ylim(0, None)\n",
    "        \n",
    "        if col_idx == 0:\n",
    "            ax.set_ylabel(rf\"$\\mathtt{{{models[row_idx]}}}$\", fontsize=16, rotation=90, labelpad=15)\n",
    "        else:\n",
    "            ax.set_ylabel(\"\")\n",
    "\n",
    "plt.tight_layout()\n",
    "plt.savefig(graphics_path + \"dist_confs_opt13b_bert\" + graphics_format, dpi=600)\n",
    "plt.show()"
   ],
   "id": "af9de906642eeec",
   "outputs": [
    {
     "data": {
      "text/plain": [
       "<Figure size 1800x800 with 8 Axes>"
      ],
      "image/png": "[encoded data removed]"
     },
     "metadata": {},
     "output_type": "display_data"
    }
   ],
   "execution_count": 15
  },
  {
   "metadata": {},
   "cell_type": "markdown",
   "source": "### ACE of opt-1.3b separately for correct and incorrect predictions.",
   "id": "a96f50c02ba72354"
  },
  {
   "metadata": {
    "ExecuteTime": {
     "end_time": "2025-08-18T14:24:44.543185Z",
     "start_time": "2025-08-18T14:24:44.536697Z"
    }
   },
   "cell_type": "code",
   "source": [
    "p_mean = results_df.query(\"reduction == 'mean' & only_answers == False & model == 'opt-1.3b'\")[\"predictions\"].iloc[0]\n",
    "c_mean = results_df.query(\"reduction == 'mean' & only_answers == False & model == 'opt-1.3b'\")[\"confidence\"].iloc[0]\n",
    "c_mean_t = c_mean[p_mean]\n",
    "c_mean_f = c_mean[~p_mean]\n",
    "p_mean_t = p_mean[p_mean].astype(int)\n",
    "p_mean_f = p_mean[~p_mean].astype(int)\n",
    "print(\"Correct:\", adaptive_calibration_error(p_mean_t, c_mean_t),\n",
    "      \"\\nIncorrect:\", adaptive_calibration_error(p_mean_f, c_mean_f))"
   ],
   "id": "260c8c74da67d005",
   "outputs": [
    {
     "name": "stdout",
     "output_type": "stream",
     "text": [
      "Correct: 0.8779525555867277 \n",
      "Incorrect: 0.10780000845654052\n"
     ]
    }
   ],
   "execution_count": 12
  },
  {
   "metadata": {},
   "cell_type": "markdown",
   "source": "### ACE of bert-base-cased for correct and incorrect predictions.",
   "id": "7c27c32c43208a3e"
  },
  {
   "metadata": {
    "ExecuteTime": {
     "end_time": "2025-08-18T14:24:44.549882Z",
     "start_time": "2025-08-18T14:24:44.543730Z"
    }
   },
   "cell_type": "code",
   "source": [
    "p_mean = results_df.query(\"reduction == 'mean' & only_answers == False & model == 'bert-base-cased'\")[\"predictions\"].iloc[0]\n",
    "c_mean = results_df.query(\"reduction == 'mean' & only_answers == False & model == 'bert-base-cased'\")[\"confidence\"].iloc[0]\n",
    "c_mean_t = c_mean[p_mean]\n",
    "c_mean_f = c_mean[~p_mean]\n",
    "p_mean_t = p_mean[p_mean].astype(int)\n",
    "p_mean_f = p_mean[~p_mean].astype(int)\n",
    "print(\"Correct:\", adaptive_calibration_error(p_mean_t, c_mean_t),\n",
    "      \"\\nIncorrect:\", adaptive_calibration_error(p_mean_f, c_mean_f))"
   ],
   "id": "7a94b6c0952760da",
   "outputs": [
    {
     "name": "stdout",
     "output_type": "stream",
     "text": [
      "Correct: 0.8461410288801423 \n",
      "Incorrect: 0.11367567576918611\n"
     ]
    }
   ],
   "execution_count": 13
  },
  {
   "metadata": {
    "ExecuteTime": {
     "end_time": "2025-08-18T14:24:44.554467Z",
     "start_time": "2025-08-18T14:24:44.550499Z"
    }
   },
   "cell_type": "code",
   "source": [
    "# ACE for bert-base-cased and full-sequence mean reduction\n",
    "bert = results_df.query(\"reduction == 'mean' & only_answers == False & model == 'bert-base-cased'\")\n",
    "print(\"ACE for bert-base-cased:\", adaptive_calibration_error(bert[\"predictions\"].iloc[0],\n",
    "                                                             bert[\"confidence\"].iloc[0]))"
   ],
   "id": "72f7c80fc095b6d5",
   "outputs": [
    {
     "name": "stdout",
     "output_type": "stream",
     "text": [
      "ACE for bert-base-cased: 0.03631055185109754\n"
     ]
    }
   ],
   "execution_count": 14
  }
 ],
 "metadata": {
  "kernelspec": {
   "display_name": "Python 3",
   "language": "python",
   "name": "python3"
  },
  "language_info": {
   "codemirror_mode": {
    "name": "ipython",
    "version": 2
   },
   "file_extension": ".py",
   "mimetype": "text/x-python",
   "name": "python",
   "nbconvert_exporter": "python",
   "pygments_lexer": "ipython2",
   "version": "2.7.6"
  }
 },
 "nbformat": 4,
 "nbformat_minor": 5
}
